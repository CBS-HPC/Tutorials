{
 "cells": [
  {
   "cell_type": "markdown",
   "id": "746b1824",
   "metadata": {},
   "source": [
    "### Connect to VM using SSH\n",
    "\n",
    "Open a terminal app on local machine and SSH onto the VM:"
   ]
  },
  {
   "cell_type": "code",
   "execution_count": null,
   "id": "0cc30832",
   "metadata": {
    "vscode": {
     "languageId": "shellscript"
    }
   },
   "outputs": [],
   "source": [
    "ssh ucloud@IP_address_from_the_red_mark"
   ]
  },
  {
   "cell_type": "markdown",
   "id": "88031c57",
   "metadata": {},
   "source": [
    "### Install jupyter if needed: "
   ]
  },
  {
   "cell_type": "code",
   "execution_count": null,
   "id": "67326f34",
   "metadata": {
    "vscode": {
     "languageId": "shellscript"
    }
   },
   "outputs": [],
   "source": [
    "# Using pip\n",
    "pip install jupyterlab\n",
    "\n",
    "# Using conda if conda environment are utilised \n",
    "conda install jupyter"
   ]
  },
  {
   "cell_type": "markdown",
   "id": "39a2747e",
   "metadata": {},
   "source": [
    "### Make sure jupyter is installed\n",
    "\n",
    "In this case jupyter is installed and activated through a conda environment. Please see "
   ]
  },
  {
   "cell_type": "code",
   "execution_count": null,
   "id": "b561e0cf",
   "metadata": {
    "vscode": {
     "languageId": "shellscript"
    }
   },
   "outputs": [],
   "source": [
    "which jupyter\n",
    "\n",
    "# Example Output:\n",
    "/home/ucloud/miniconda3/envs/my_env/bin/jupyter"
   ]
  },
  {
   "cell_type": "markdown",
   "id": "f3fada0b",
   "metadata": {},
   "source": [
    "### Start Jupyter Notebook from remote server"
   ]
  },
  {
   "cell_type": "code",
   "execution_count": null,
   "id": "22582d8d",
   "metadata": {
    "vscode": {
     "languageId": "shellscript"
    }
   },
   "outputs": [],
   "source": [
    "jupyter notebook --no-browser --port=8080"
   ]
  },
  {
   "cell_type": "markdown",
   "id": "a2726edc",
   "metadata": {},
   "source": [
    "### SSH connect to VM using a new terminal app on local machine\n",
    "\n",
    "Open a 2nd instance of Terminal on Local machine"
   ]
  },
  {
   "cell_type": "code",
   "execution_count": null,
   "id": "130d09b7",
   "metadata": {
    "vscode": {
     "languageId": "shellscript"
    }
   },
   "outputs": [],
   "source": [
    "ssh -L 8080:localhost:8080 ucloud@IP_address_from_the_red_mark"
   ]
  }
 ],
 "metadata": {
  "kernelspec": {
   "display_name": "R",
   "language": "R",
   "name": "ir"
  },
  "language_info": {
   "codemirror_mode": "r",
   "file_extension": ".r",
   "mimetype": "text/x-r-source",
   "name": "R",
   "pygments_lexer": "r",
   "version": "4.2.2"
  }
 },
 "nbformat": 4,
 "nbformat_minor": 5
}
