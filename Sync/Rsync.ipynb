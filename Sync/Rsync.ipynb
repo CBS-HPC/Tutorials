{
 "cells": [
  {
   "attachments": {},
   "cell_type": "markdown",
   "id": "125fd174",
   "metadata": {},
   "source": [
    "# UCloud Tutorial: Transfer large data to UCloud using Rsync\n",
    "\n",
    "This application is used to deploy an rsync server, which is a utility to efficiently transfer and synchronize files and directories between two different systems\n",
    "\n",
    "[UCloud documentation on Rsync](https://docs.cloud.sdu.dk/Apps/rsync.html)"
   ]
  },
  {
   "attachments": {},
   "cell_type": "markdown",
   "id": "ec7b4deb",
   "metadata": {},
   "source": [
    "# For Windows Installing Ubuntu on local machine (For Windows)\n",
    "\n",
    "Video Tutorial found [here](https://www.google.com/search?client=firefox-b-d&q=install+rsync+on+windows#fpstate=ive&vld=cid:da30000b,vid:qJN9mb8fjDM)\n"
   ]
  },
  {
   "attachments": {},
   "cell_type": "markdown",
   "id": "56c07483",
   "metadata": {},
   "source": [
    "## Apply for a Public IP on UCloud\n",
    "\n",
    "A UCloud public IP is need to use Rsync. This can be obtained through a [UCloud grant application](https://github.com/CBS-HPC/.github/blob/main/profile/GrantApp.md) by filling out the field shown below:\n",
    "\n",
    "\n",
    "![](image1.PNG)\n",
    "\n",
    "The application subsequently needs to be accepted by CBS front office personal."
   ]
  },
  {
   "attachments": {},
   "cell_type": "markdown",
   "id": "bbe47830",
   "metadata": {},
   "source": [
    "## Start Rsync Job and Configure Ports for Public IP'\n",
    "\n",
    "Fill out \"Job name\",\"Hours\", \"Machine type\".\n",
    "\n",
    "\n",
    "### Step 1: Select the \"Public IP\" field\n",
    "![](image2.PNG)\n",
    "\n",
    "### Step 2: If no Public IPs are activated press \"Create public ip\"\n",
    "![](image3.PNG)\n",
    "\n",
    "### Step 3: Select the \"public-ip\" product\n",
    "![](image4.PNG)\n",
    "\n",
    "### Step 4: press the \"3 dots button\" and select \"Properties\".\n",
    "![](image5.PNG)\n",
    "\n",
    "### Step 5: Open the firewall for ports 22 and 873 as shown below: \n",
    "![](image6.PNG)\n",
    "\n",
    "### Step 6: Select the configured Public IP\n",
    "![](image7.PNG)\n",
    "\n",
    "### Step 7: Start the Job \n",
    "![](image8.PNG)\n",
    "\n",
    "#### Step 8: When the Job is ready the IP adress and the password is shown as below: \n",
    "![](image9.PNG)"
   ]
  },
  {
   "attachments": {},
   "cell_type": "markdown",
   "id": "e96be666",
   "metadata": {},
   "source": [
    "### Open Commandpromt or Terminal on local machine (For Windows) "
   ]
  },
  {
   "cell_type": "code",
   "execution_count": null,
   "id": "6cb55c2b",
   "metadata": {
    "vscode": {
     "languageId": "shellscript"
    }
   },
   "outputs": [],
   "source": [
    "# Activate Ubuntu \n",
    "wsl\n",
    "\n",
    "# Navigate to path contain the folder of files to transfer\n",
    "cd \"path/of/folders-or-files\"\n",
    "\n",
    "# Transfer the folder \"myfolder\" to work/myfolder on UCloud. \n",
    "rsync -avP ./myfolder rsync://ucloud@publicip:873/volume\n",
    "\n",
    "# Password will be prompted. Copy the password over from the Job \"info page\". The password will be hidden in the terminal. "
   ]
  }
 ],
 "metadata": {
  "kernelspec": {
   "display_name": "R",
   "language": "R",
   "name": "ir"
  },
  "language_info": {
   "codemirror_mode": "r",
   "file_extension": ".r",
   "mimetype": "text/x-r-source",
   "name": "R",
   "pygments_lexer": "r",
   "version": "4.2.2"
  }
 },
 "nbformat": 4,
 "nbformat_minor": 5
}
