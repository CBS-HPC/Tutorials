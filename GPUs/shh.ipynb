{
 "cells": [
  {
   "attachments": {},
   "cell_type": "markdown",
   "id": "125fd174",
   "metadata": {},
   "source": [
    "# How to Generate ssh-key\n",
    "\n",
    "In order to access the VM it is necessary to create Secure Shell Protocol (SSH) keys more specifically a public key (shareable part) and a private key (kept safe locally)."
   ]
  },
  {
   "attachments": {},
   "cell_type": "markdown",
   "id": "ec7b4deb",
   "metadata": {},
   "source": [
    "## On Windows System\n",
    "\n",
    "To generate your public key, find and open CMD, type \"ssh-keygen\" and press enter ( See figure below). \n",
    "\n",
    "If the generation was successful, the CMD should look somewhat like part B of the figure below. \n",
    "\n",
    "![](genSSH.png \"GenSSH\")\n",
    "\n",
    "\n",
    "Manually locate, open and copy our public key from id_rsa.pub file. On Windows, the file might be here: \"C:\\Users\\write_your_user_name\\.ssh.\" (see figure below) \n",
    "\n",
    "![](findSSH.png \"Find SSH\")\n",
    "\n",
    "More information can be found at https://genome.au.dk/docs/getting-started/#public-key-authentication \n"
   ]
  },
  {
   "attachments": {},
   "cell_type": "markdown",
   "id": "56c07483",
   "metadata": {},
   "source": [
    "## On Linux System\n",
    "\n",
    "Make sure that a package called openssh-client in stalled, in case of a Debian distribution it would be the following command:"
   ]
  },
  {
   "cell_type": "code",
   "execution_count": null,
   "id": "4555d933",
   "metadata": {
    "vscode": {
     "languageId": "shellscript"
    }
   },
   "outputs": [],
   "source": [
    "sudo apt install openssh-client"
   ]
  },
  {
   "attachments": {},
   "cell_type": "markdown",
   "id": "eee95acf",
   "metadata": {},
   "source": [
    "This package contains ssh-keygen command, which generates the keys. The following command triggers a procedure requesting an additional user input (the explanation of using more advanced keys is explained here). It is recommended to define a password:"
   ]
  },
  {
   "cell_type": "code",
   "execution_count": null,
   "id": "3019ae3d",
   "metadata": {
    "vscode": {
     "languageId": "shellscript"
    }
   },
   "outputs": [],
   "source": [
    "ssh-keygen -t ed25519 -a 100 -C \"your_email@example.com\""
   ]
  },
  {
   "attachments": {},
   "cell_type": "markdown",
   "id": "f1df86cc",
   "metadata": {},
   "source": [
    "The generated SSH key will be by stored under ~/.ssh/id_rsa.pub by default."
   ]
  }
 ],
 "metadata": {
  "kernelspec": {
   "display_name": "R",
   "language": "R",
   "name": "ir"
  },
  "language_info": {
   "codemirror_mode": "r",
   "file_extension": ".r",
   "mimetype": "text/x-r-source",
   "name": "R",
   "pygments_lexer": "r",
   "version": "4.2.2"
  }
 },
 "nbformat": 4,
 "nbformat_minor": 5
}
