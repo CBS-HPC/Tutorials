{
 "cells": [
  {
   "cell_type": "markdown",
   "id": "125fd174",
   "metadata": {},
   "source": [
    "# UCloud Tutorial: SSH Connection to UCloud using VSCode"
   ]
  },
  {
   "cell_type": "markdown",
   "id": "7baaa236",
   "metadata": {},
   "source": [
    "![](/Tutorials/SSH/image1.PNG)\n",
    "\n",
    "## Add public SSH key to UCloud\n",
    "\n",
    "### Step 1: On UCloud go to \"Resources -> SHH-Keys -> Create SSH key\" \n",
    "\n",
    "![](/Tutorials/SSH/image2.PNG)\n",
    "\n",
    "### Step 2: Paste pulic key, give a meaningful name and press \"Add SSH key\". \n",
    "\n",
    "![](/Tutorials/SSH/image3.PNG)\n",
    "\n",
    "\n",
    "![](/Tutorials/SSH/image4.PNG)\n",
    "\n",
    "\n",
    "More information can be found in the UCloud [documentation](https://docs.cloud.sdu.dk/Apps/general_settings.html#configure-ssh-access).\n"
   ]
  },
  {
   "cell_type": "markdown",
   "id": "0b9e853a",
   "metadata": {},
   "source": [
    "## Start UCloud Job\n",
    "\n",
    "### Step 1: Start UCloud Job by filling out the necessary fields. **Remember to check the \"Enable SSH server\" checkbox\"**\n",
    "\n",
    "![](/Tutorials/SSH/image5.PNG)\n",
    "\n",
    "### Step 2: When job ready please locate and copy the SSH adress \n",
    "\n",
    "![](/Tutorials/SSH/image6.PNG)"
   ]
  },
  {
   "cell_type": "markdown",
   "id": "74505e32",
   "metadata": {},
   "source": [
    "## Open Visual Studio Code (VScode)\n",
    "\n",
    "### Install \"Remote - SSH\" extension\n",
    "\n",
    "![](/Tutorials/SSH/image7.PNG)\n",
    "\n",
    "### Access remote UCloud Job\n",
    "\n",
    "- Press \"Ctrl + shift + p\" to open Command Palette\n",
    "- Search and press \"Remote-SSH:Connect to Host...\"\n",
    "- Press \"Add New SSH Host...\"\n",
    "\n",
    "![](/Tutorials/SSH/image8.PNG)\n",
    "\n",
    "### Paste UCloud Job SSH address and press Enter\n",
    "![](/Tutorials/SSH/iImage9.PNG)\n",
    "\n",
    "Follow a few intuitive steps.\n"
   ]
  },
  {
   "cell_type": "markdown",
   "id": "d649f835",
   "metadata": {},
   "source": [
    "### Navigate to /work folder on UCloud\n",
    "\n",
    "![](/Tutorials/SSH/image10.PNG)\n",
    "\n",
    "\n",
    "![](/Tutorials/SSH/image11.PNG)\n",
    "\n"
   ]
  },
  {
   "cell_type": "markdown",
   "id": "607b2392",
   "metadata": {},
   "source": [
    "## Run a Jupyter notebook\n",
    "\n",
    "### Install VScode Extension \"Python\" and \"Jupyter\" on remote machine\n",
    "\n",
    "![](/Tutorials/SSH/image12.PNG)\n",
    "\n",
    "\n",
    "![](/Tutorials/SSH/image13.PNG)\n"
   ]
  },
  {
   "cell_type": "markdown",
   "id": "9fe77c43",
   "metadata": {},
   "source": [
    "## Activate a Conda Environment"
   ]
  },
  {
   "cell_type": "code",
   "execution_count": null,
   "id": "24786df8",
   "metadata": {
    "vscode": {
     "languageId": "shellscript"
    }
   },
   "outputs": [],
   "source": [
    "#Running a new UCloud run the following lines in the terminal to activate Conda:\n",
    "sudo ln -s /work/miniconda3/bin/conda /usr/bin/conda\n",
    "\n",
    "# Initiate Conda and reboot \n",
    "conda init && bash -i\n",
    "\n",
    "# Activate environment:\n",
    "conda activate myenv\n",
    "\n",
    "# Install ipykernel if not installed:\n",
    "\n",
    "conda install ipykernel\n",
    "\n",
    "# \n",
    "python -m ipykernel install --user --name myenv --display-name \"myenv\""
   ]
  }
 ],
 "metadata": {
  "kernelspec": {
   "display_name": "mkdocs",
   "language": "python",
   "name": "python3"
  },
  "language_info": {
   "codemirror_mode": "r",
   "file_extension": ".r",
   "mimetype": "text/x-r-source",
   "name": "python",
   "pygments_lexer": "r",
   "version": "3.9.16"
  }
 },
 "nbformat": 4,
 "nbformat_minor": 5
}
